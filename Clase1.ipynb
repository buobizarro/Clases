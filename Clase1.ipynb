{
  "nbformat": 4,
  "nbformat_minor": 0,
  "metadata": {
    "colab": {
      "provenance": [],
      "include_colab_link": true
    },
    "kernelspec": {
      "name": "python3",
      "display_name": "Python 3"
    },
    "language_info": {
      "name": "python"
    }
  },
  "cells": [
    {
      "cell_type": "markdown",
      "metadata": {
        "id": "view-in-github",
        "colab_type": "text"
      },
      "source": [
        "<a href=\"https://colab.research.google.com/github/buobizarro/Clases/blob/main/Clase1.ipynb\" target=\"_parent\"><img src=\"https://colab.research.google.com/assets/colab-badge.svg\" alt=\"Open In Colab\"/></a>"
      ]
    },
    {
      "cell_type": "markdown",
      "source": [
        "# Nota clase: Introducccion a python"
      ],
      "metadata": {
        "id": "aGgi0i_8amg2"
      }
    },
    {
      "cell_type": "code",
      "execution_count": null,
      "metadata": {
        "colab": {
          "base_uri": "https://localhost:8080/"
        },
        "id": "PHdj9Y2JYFo5",
        "outputId": "bb47bcf4-5a29-4bc7-fcd5-5a08bdfb802c"
      },
      "outputs": [
        {
          "output_type": "stream",
          "name": "stdout",
          "text": [
            "Hola mundo\n"
          ]
        }
      ],
      "source": [
        "#Sintaxis basica\n",
        "print(\"Hola mundo\")"
      ]
    },
    {
      "cell_type": "code",
      "source": [
        "#Variables\n",
        "nombre = \"Alan\"\n",
        "edad = 25"
      ],
      "metadata": {
        "id": "jHWC6Lp0bGH-"
      },
      "execution_count": null,
      "outputs": []
    },
    {
      "cell_type": "code",
      "source": [
        "print(nombre)"
      ],
      "metadata": {
        "colab": {
          "base_uri": "https://localhost:8080/"
        },
        "id": "-IQkO2f1bSuv",
        "outputId": "a097edc9-8995-467f-f95b-214c2d28d388"
      },
      "execution_count": null,
      "outputs": [
        {
          "output_type": "stream",
          "name": "stdout",
          "text": [
            "Alan\n"
          ]
        }
      ]
    },
    {
      "cell_type": "code",
      "source": [
        "print(edad)"
      ],
      "metadata": {
        "colab": {
          "base_uri": "https://localhost:8080/"
        },
        "id": "tWzy3oOjbVe1",
        "outputId": "b4ca9312-bcc8-4914-99c7-374929b9be76"
      },
      "execution_count": null,
      "outputs": [
        {
          "output_type": "stream",
          "name": "stdout",
          "text": [
            "25\n"
          ]
        }
      ]
    },
    {
      "cell_type": "code",
      "source": [
        "#Datos basico\n",
        "# int numeros enteros\n",
        "entero = 10\n",
        "# float numeros decimales\n",
        "decimal = 3.1416\n",
        "# str cadenas de texto\n",
        "texto = \"intersemestral\"\n",
        "# bool valores logicos (True, False)\n",
        "logico = True\n",
        "booleano = False\n"
      ],
      "metadata": {
        "id": "2ve1GUR9b1MX"
      },
      "execution_count": null,
      "outputs": []
    },
    {
      "cell_type": "code",
      "source": [
        "# operadores\n",
        "suma = 5 + 3\n",
        "restar = 5 - 3\n",
        "multiplicion = 5 * 3\n",
        "division = 5 / 3\n",
        "division_entera = 5 // 3\n",
        "potencia = 5 ** 3\n",
        "modulo = 5 % 3"
      ],
      "metadata": {
        "id": "Ad2aNOfMe7sT"
      },
      "execution_count": null,
      "outputs": []
    },
    {
      "cell_type": "code",
      "source": [
        "print(suma)\n",
        "print(restar)\n",
        "print(multiplicion)\n",
        "print(division)\n",
        "print(division_entera)\n",
        "print(potencia)\n",
        "print(modulo)"
      ],
      "metadata": {
        "colab": {
          "base_uri": "https://localhost:8080/"
        },
        "id": "nMK5tjCLg4io",
        "outputId": "cf3f5b20-299c-41da-d58d-87c36176712b"
      },
      "execution_count": null,
      "outputs": [
        {
          "output_type": "stream",
          "name": "stdout",
          "text": [
            "8\n",
            "2\n",
            "15\n",
            "1.6666666666666667\n",
            "1\n",
            "125\n",
            "2\n"
          ]
        }
      ]
    },
    {
      "cell_type": "code",
      "source": [
        "#Operadores relacionales\n",
        "\n",
        "print(5 > 3) #true\n",
        "print(5 == 3) #falso\n",
        "print(5 <= 5) #true"
      ],
      "metadata": {
        "colab": {
          "base_uri": "https://localhost:8080/"
        },
        "id": "n_8BwYOZjNcA",
        "outputId": "e66379d5-7e20-4599-f5f8-9753d4ae7558"
      },
      "execution_count": null,
      "outputs": [
        {
          "output_type": "stream",
          "name": "stdout",
          "text": [
            "True\n",
            "False\n",
            "True\n"
          ]
        }
      ]
    },
    {
      "cell_type": "code",
      "source": [
        "#Operadores logicos\n",
        "\n",
        "print(True and False) #falso\n",
        "print(True or False) #true\n",
        "print(not True) #Falso"
      ],
      "metadata": {
        "colab": {
          "base_uri": "https://localhost:8080/"
        },
        "id": "udb4j4pujwkW",
        "outputId": "5e160ea7-413c-4465-aac0-9d3392e75dfb"
      },
      "execution_count": null,
      "outputs": [
        {
          "output_type": "stream",
          "name": "stdout",
          "text": [
            "False\n",
            "True\n",
            "False\n"
          ]
        }
      ]
    },
    {
      "cell_type": "code",
      "source": [
        "# Estructuras de control\n",
        "# condicionales permiter tomar decisiones basadas en condiciones\n",
        "\n",
        "if edad >= 18:\n",
        "    print(\"Eres mayor de edad\")\n",
        "    print(\"Puedes beber\")\n",
        "else:\n",
        "    print(\"Eres menor de edad\")"
      ],
      "metadata": {
        "colab": {
          "base_uri": "https://localhost:8080/"
        },
        "id": "yR8i6Vdrif2X",
        "outputId": "b5c848b9-8b32-4ea3-c0a5-0c422db198d7"
      },
      "execution_count": null,
      "outputs": [
        {
          "output_type": "stream",
          "name": "stdout",
          "text": [
            "Eres mayor de edad\n",
            "Puedes beber\n"
          ]
        }
      ]
    },
    {
      "cell_type": "code",
      "source": [
        "# Bucle for que se utiliza sobre una secuencia (Listas, Rangos, etc.)\n",
        "\n",
        "for i in range(10):\n",
        "    print(i)"
      ],
      "metadata": {
        "colab": {
          "base_uri": "https://localhost:8080/"
        },
        "id": "qE58fw6qkluD",
        "outputId": "79fca901-f3d8-4bfd-f26e-f3c6c968d800"
      },
      "execution_count": null,
      "outputs": [
        {
          "output_type": "stream",
          "name": "stdout",
          "text": [
            "0\n",
            "1\n",
            "2\n",
            "3\n",
            "4\n",
            "5\n",
            "6\n",
            "7\n",
            "8\n",
            "9\n"
          ]
        }
      ]
    },
    {
      "cell_type": "code",
      "source": [
        "# Bucle while repite mientras una condicion sea verdadera\n",
        "\n",
        "contador = 0\n",
        "while contador < 5:\n",
        "    print(contador)\n",
        "    contador += 1\n"
      ],
      "metadata": {
        "colab": {
          "base_uri": "https://localhost:8080/"
        },
        "id": "ILL5lmkUow_E",
        "outputId": "ed6555ea-4a4c-4358-fce7-9bd6143a70fb"
      },
      "execution_count": null,
      "outputs": [
        {
          "output_type": "stream",
          "name": "stdout",
          "text": [
            "0\n",
            "1\n",
            "2\n",
            "3\n",
            "4\n"
          ]
        }
      ]
    },
    {
      "cell_type": "markdown",
      "source": [
        "# Ejercicio Practico."
      ],
      "metadata": {
        "id": "B9CRq9WPq0zx"
      }
    },
    {
      "cell_type": "markdown",
      "source": [
        "**Problema:** Escribe un programa que:\n",
        "\n",
        "1. Solicite al usuario su nombre y edad.\n",
        "2. Determine si es mayor o menor de edad.\n",
        "3. Imprima un mensaje personalizado."
      ],
      "metadata": {
        "id": "XH4lKAJbw8dp"
      }
    },
    {
      "cell_type": "code",
      "source": [
        "# Problema\n",
        "name = input(\"Introduce tu nombre: \")\n",
        "date = int(input(\"Introduce tu edad: \"))\n",
        "\n",
        "if edad >= 18:\n",
        "    print(f\"Hola {name}, eres mayor de edad.\")\n",
        "else:\n",
        "    print(f\"Hola {name}, eres menor de edad.\")"
      ],
      "metadata": {
        "id": "pg5-3tQnxCrS"
      },
      "execution_count": null,
      "outputs": []
    }
  ]
}