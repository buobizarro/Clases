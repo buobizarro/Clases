{
  "cells": [
    {
      "cell_type": "markdown",
      "metadata": {
        "id": "view-in-github",
        "colab_type": "text"
      },
      "source": [
        "<a href=\"https://colab.research.google.com/github/buobizarro/Clases/blob/main/Espacios_Vectoriales_Euclidianos.ipynb\" target=\"_parent\"><img src=\"https://colab.research.google.com/assets/colab-badge.svg\" alt=\"Open In Colab\"/></a>"
      ]
    },
    {
      "cell_type": "markdown",
      "id": "fe5b0464-d6b7-41a7-952c-8d8f9372382a",
      "metadata": {
        "id": "fe5b0464-d6b7-41a7-952c-8d8f9372382a"
      },
      "source": [
        "# Espacios Vectoriales Euclidianos"
      ]
    },
    {
      "cell_type": "markdown",
      "id": "25fdae31-f90d-44c3-8b61-554bc0409781",
      "metadata": {
        "id": "25fdae31-f90d-44c3-8b61-554bc0409781"
      },
      "source": [
        "**Producto Escalar**\n",
        "\n",
        "El producto escalar (o producto punto) en un espacio vectorial euclidiano es una operación que toma dos vectores y produce un escalar. En el espacio $\\mathbb{R}^n$, el producto escalar de dos vectores $\\mathbf{u} = (u_1, u_2, \\ldots, u_n)$ y $\\mathbf{v} = (v_1, v_2, \\ldots, v_n)$ se define como:\n",
        "\n",
        "$$\n",
        "\\mathbf{u} \\cdot \\mathbf{v} = u_1 v_1 + u_2 v_2 + \\cdots + u_n v_n = \\sum_{i=1}^n u_i v_i\n",
        "$$\n",
        "\n",
        "**Propiedades del Producto Escalar**\n",
        "\n",
        "1. **Conmutatividad**: $\\mathbf{u} \\cdot \\mathbf{v} = \\mathbf{v} \\cdot \\mathbf{u}$\n",
        "2. **Distributividad**: $\\mathbf{u} \\cdot (\\mathbf{v} + \\mathbf{w}) = \\mathbf{u} \\cdot \\mathbf{v} + \\mathbf{u} \\cdot \\mathbf{w}$\n",
        "3. **Asociatividad con el producto por un escalar**: $(c\\mathbf{u}) \\cdot \\mathbf{v} = c (\\mathbf{u} \\cdot \\mathbf{v})$, donde $c$ es un escalar.\n",
        "4. **Positividad**: $\\mathbf{u} \\cdot \\mathbf{u} \\geq 0$, y $\\mathbf{u} \\cdot \\mathbf{u} = 0$ si y solo si $\\mathbf{u} = \\mathbf{0}$.\n",
        "\n",
        "**Normas y Distancias**\n",
        "\n",
        "La norma (o longitud) de un vector $\\mathbf{u}$ en un espacio vectorial euclidiano se define como:\n",
        "\n",
        "$$\n",
        "\\|\\mathbf{u}\\| = \\sqrt{\\mathbf{u} \\cdot \\mathbf{u}} = \\sqrt{u_1^2 + u_2^2 + \\cdots + u_n^2}\n",
        "$$\n",
        "\n",
        "La distancia entre dos vectores $\\mathbf{u}$ y $\\mathbf{v}$ se define como la norma de su diferencia:\n",
        "\n",
        "$$\n",
        "d(\\mathbf{u}, \\mathbf{v}) = \\|\\mathbf{u} - \\mathbf{v}\\| = \\sqrt{(u_1 - v_1)^2 + (u_2 - v_2)^2 + \\cdots + (u_n - v_n)^2}\n",
        "$$\n"
      ]
    },
    {
      "cell_type": "markdown",
      "id": "18bed965-0edc-4c09-a0d0-b9aab093b48e",
      "metadata": {
        "id": "18bed965-0edc-4c09-a0d0-b9aab093b48e"
      },
      "source": [
        "**Bases Ortogonales**\n",
        "\n",
        "En un espacio vectorial con producto escalar, dos vectores $\\mathbf{u}$ y $\\mathbf{v}$ son ortogonales si su producto escalar es cero:\n",
        "\n",
        "$$\n",
        "\\mathbf{u} \\cdot \\mathbf{v} = 0\n",
        "$$\n",
        "\n",
        "Una base ortogonal de un espacio vectorial es un conjunto de vectores ortogonales entre sí que generan todo el espacio. Si además cada vector de la base tiene norma 1, se dice que la base es ortonormal.\n",
        "\n",
        "**Proyecciones Ortogonales**\n",
        "\n",
        "La proyección ortogonal de un vector $\\mathbf{u}$ sobre un vector $\\mathbf{v}$ se define como:\n",
        "\n",
        "$$\n",
        "\\text{proj}_{\\mathbf{v}} \\mathbf{u} = \\frac{\\mathbf{u} \\cdot \\mathbf{v}}{\\mathbf{v} \\cdot \\mathbf{v}} \\mathbf{v}\n",
        "$$\n",
        "\n",
        "Si $\\{\\mathbf{v}_1, \\mathbf{v}_2, \\ldots, \\mathbf{v}_n\\}$ es una base ortogonal de un espacio vectorial, cualquier vector $\\mathbf{u}$ en el espacio puede expresarse como una combinación lineal de los vectores de la base. La expresión de $\\mathbf{u}$ en términos de esta base se obtiene mediante proyecciones ortogonales sobre cada uno de los vectores de la base.\n",
        "\n",
        "**Proyecciones Ortogonales en Subespacios**\n",
        "\n",
        "Sea $W$ un subespacio de un espacio vectorial euclidiano $V$. La proyección ortogonal de un vector $\\mathbf{u} \\in V$ sobre $W$ es el vector $\\mathbf{w} \\in W$ tal que $\\mathbf{u} - \\mathbf{w}$ es ortogonal a cada vector en $W$. Si $\\{\\mathbf{v}_1, \\mathbf{v}_2, \\ldots, \\mathbf{v}_k\\}$ es una base ortogonal de $W$, la proyección ortogonal de $\\mathbf{u}$ sobre $W$ es:\n",
        "\n",
        "$$\n",
        "\\text{proj}_W \\mathbf{u} = \\sum_{i=1}^k \\text{proj}_{\\mathbf{v}_i} \\mathbf{u}\n",
        "$$\n",
        "\n",
        "donde $\\text{proj}_{\\mathbf{v}_i} \\mathbf{u}$ es la proyección de $\\mathbf{u}$ sobre $\\mathbf{v}_i$.\n",
        "\n",
        "**Proceso de Gram-Schmidt**\n",
        "\n",
        "El proceso de Gram-Schmidt es un método para convertir un conjunto de vectores linealmente independientes en una base ortogonal. Dado un conjunto de vectores $\\{\\mathbf{v}_1, \\mathbf{v}_2, \\ldots, \\mathbf{v}_n\\}$, el proceso genera un conjunto de vectores ortogonales $\\{\\mathbf{u}_1, \\mathbf{u}_2, \\ldots, \\mathbf{u}_n\\}$ de la siguiente manera:\n",
        "\n",
        "1. Sea $\\mathbf{u}_1 = \\mathbf{v}_1$\n",
        "2. Para $k = 2, 3, \\ldots, n$:\n",
        "   $$\n",
        "   \\mathbf{u}_k = \\mathbf{v}_k - \\sum_{j=1}^{k-1} \\text{proj}_{\\mathbf{u}_j} \\mathbf{v}_k\n",
        "   $$\n",
        "   donde $\\text{proj}_{\\mathbf{u}_j} \\mathbf{v}_k = \\frac{\\mathbf{v}_k \\cdot \\mathbf{u}_j}{\\mathbf{u}_j \\cdot \\mathbf{u}_j} \\mathbf{u}_j$\n",
        "\n",
        "Finalmente, para obtener una base ortonormal, cada vector $\\mathbf{u}_k$ se normaliza:\n",
        "\n",
        "$$\n",
        "\\mathbf{e}_k = \\frac{\\mathbf{u}_k}{\\|\\mathbf{u}_k\\|}\n",
        "$$\n",
        "\n",
        "El conjunto resultante $\\{\\mathbf{e}_1, \\mathbf{e}_2, \\ldots, \\mathbf{e}_n\\}$ es una base ortonormal.\n",
        "\n"
      ]
    },
    {
      "cell_type": "markdown",
      "id": "28550e73-bffd-4cad-93f7-6e13b97b16c8",
      "metadata": {
        "id": "28550e73-bffd-4cad-93f7-6e13b97b16c8"
      },
      "source": [
        "# Ejemplos con Python"
      ]
    },
    {
      "cell_type": "markdown",
      "id": "26c9e6a8-e572-4e7f-a376-8ff20db59dff",
      "metadata": {
        "id": "26c9e6a8-e572-4e7f-a376-8ff20db59dff"
      },
      "source": [
        "#### Ejemplo 1: Cálculo del Producto Escalar\n"
      ]
    },
    {
      "cell_type": "code",
      "execution_count": null,
      "id": "9413b7e6-636b-428e-83d0-8d1f4b01d132",
      "metadata": {
        "id": "9413b7e6-636b-428e-83d0-8d1f4b01d132",
        "outputId": "b5841a91-557e-4861-dd07-20407ac228d1"
      },
      "outputs": [
        {
          "name": "stdout",
          "output_type": "stream",
          "text": [
            "El producto escalar de u y v es: 32\n"
          ]
        }
      ],
      "source": [
        "import numpy as np\n",
        "\n",
        "# Definimos dos vectores\n",
        "u = np.array([1, 2, 3])\n",
        "v = np.array([4, 5, 6])\n",
        "\n",
        "# Calculamos el producto escalar\n",
        "producto_escalar = np.dot(u, v)\n",
        "print(\"El producto escalar de u y v es:\", producto_escalar)\n"
      ]
    },
    {
      "cell_type": "markdown",
      "id": "baefca49-4090-4465-9ca1-f33fd02e2e3e",
      "metadata": {
        "id": "baefca49-4090-4465-9ca1-f33fd02e2e3e"
      },
      "source": [
        "#### Ejemplo 2: Cálculo de la Norma de un Vector\n"
      ]
    },
    {
      "cell_type": "code",
      "execution_count": null,
      "id": "4b85d445-3b0b-4ba8-a062-1c04ae33f023",
      "metadata": {
        "id": "4b85d445-3b0b-4ba8-a062-1c04ae33f023",
        "outputId": "f40ff4cb-ce31-477e-c1e1-0c23ef9b6361"
      },
      "outputs": [
        {
          "name": "stdout",
          "output_type": "stream",
          "text": [
            "La norma de u es: 3.7416573867739413\n"
          ]
        }
      ],
      "source": [
        "import numpy as np\n",
        "\n",
        "# Definimos un vector\n",
        "u = np.array([1, 2, 3])\n",
        "\n",
        "# Calculamos la norma del vector\n",
        "norma = np.linalg.norm(u)\n",
        "print(\"La norma de u es:\", norma)\n"
      ]
    },
    {
      "cell_type": "markdown",
      "id": "04bdbae5-1f8a-4570-b4ed-e26b9b03e2d6",
      "metadata": {
        "id": "04bdbae5-1f8a-4570-b4ed-e26b9b03e2d6"
      },
      "source": [
        "#### Ejemplo 3: Proyección Ortogonal de un Vector sobre Otro\n"
      ]
    },
    {
      "cell_type": "code",
      "execution_count": null,
      "id": "6280cb42-84f2-4bfa-b49b-f496eac5ce22",
      "metadata": {
        "id": "6280cb42-84f2-4bfa-b49b-f496eac5ce22",
        "outputId": "776e072a-d655-4a93-8a3a-3b5a33fb3b15"
      },
      "outputs": [
        {
          "name": "stdout",
          "output_type": "stream",
          "text": [
            "La proyección ortogonal de u sobre v es: [1. 0. 0.]\n"
          ]
        }
      ],
      "source": [
        "import numpy as np\n",
        "\n",
        "# Definimos dos vectores\n",
        "u = np.array([1, 2, 3])\n",
        "v = np.array([4, 0, 0])\n",
        "\n",
        "# Calculamos la proyección ortogonal de u sobre v\n",
        "proyeccion = np.dot(u, v) / np.dot(v, v) * v\n",
        "print(\"La proyección ortogonal de u sobre v es:\", proyeccion)\n"
      ]
    },
    {
      "cell_type": "markdown",
      "id": "5fdfdcbf-e21e-4788-aaa8-0abeb99e8ae1",
      "metadata": {
        "id": "5fdfdcbf-e21e-4788-aaa8-0abeb99e8ae1"
      },
      "source": [
        "#### Ejemplo 4: Base Ortonormal utilizando el Proceso de Gram-Schmidt\n"
      ]
    },
    {
      "cell_type": "code",
      "execution_count": null,
      "id": "e34ba4e2-f8aa-44d0-aa82-9200771f8bf8",
      "metadata": {
        "id": "e34ba4e2-f8aa-44d0-aa82-9200771f8bf8",
        "outputId": "0cd47f7a-b35f-46dd-9fa7-2afacfab4405"
      },
      "outputs": [
        {
          "name": "stdout",
          "output_type": "stream",
          "text": [
            "La base ortonormal es:\n",
            "[[ 0.70710678  0.70710678  0.        ]\n",
            " [ 0.40824829 -0.40824829  0.81649658]\n",
            " [-0.57735027  0.57735027  0.57735027]]\n"
          ]
        }
      ],
      "source": [
        "import numpy as np\n",
        "\n",
        "def gram_schmidt(V):\n",
        "    # Inicializamos una lista para almacenar los vectores ortonormales\n",
        "    U = []\n",
        "    for v in V:\n",
        "        # Proyectamos v sobre cada vector ortonormal en U\n",
        "        for u in U:\n",
        "            v = v - np.dot(v, u) * u\n",
        "        # Normalizamos el vector\n",
        "        v = v / np.linalg.norm(v)\n",
        "        # Añadimos el vector ortonormal a U\n",
        "        U.append(v)\n",
        "    return np.array(U)\n",
        "\n",
        "# Definimos un conjunto de vectores linealmente independientes\n",
        "V = np.array([[1, 1, 0], [1, 0, 1], [0, 1, 1]])\n",
        "\n",
        "# Calculamos la base ortonormal utilizando el proceso de Gram-Schmidt\n",
        "U = gram_schmidt(V)\n",
        "print(\"La base ortonormal es:\")\n",
        "print(U)\n"
      ]
    },
    {
      "cell_type": "code",
      "execution_count": null,
      "id": "83eabeee-fe10-44ca-bacb-61a02be97b1e",
      "metadata": {
        "id": "83eabeee-fe10-44ca-bacb-61a02be97b1e"
      },
      "outputs": [],
      "source": []
    }
  ],
  "metadata": {
    "kernelspec": {
      "display_name": "Python 3 (ipykernel)",
      "language": "python",
      "name": "python3"
    },
    "language_info": {
      "codemirror_mode": {
        "name": "ipython",
        "version": 3
      },
      "file_extension": ".py",
      "mimetype": "text/x-python",
      "name": "python",
      "nbconvert_exporter": "python",
      "pygments_lexer": "ipython3",
      "version": "3.12.3"
    },
    "colab": {
      "provenance": [],
      "include_colab_link": true
    }
  },
  "nbformat": 4,
  "nbformat_minor": 5
}