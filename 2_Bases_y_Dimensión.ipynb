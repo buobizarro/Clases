{
  "cells": [
    {
      "cell_type": "markdown",
      "metadata": {
        "id": "view-in-github",
        "colab_type": "text"
      },
      "source": [
        "<a href=\"https://colab.research.google.com/github/buobizarro/Clases/blob/main/2_Bases_y_Dimensio%CC%81n.ipynb\" target=\"_parent\"><img src=\"https://colab.research.google.com/assets/colab-badge.svg\" alt=\"Open In Colab\"/></a>"
      ]
    },
    {
      "cell_type": "markdown",
      "id": "a38a57c6-553a-4141-b81e-73ba0a465f8e",
      "metadata": {
        "id": "a38a57c6-553a-4141-b81e-73ba0a465f8e"
      },
      "source": [
        "# Bases y Dimensión\n"
      ]
    },
    {
      "cell_type": "markdown",
      "id": "ebeb4241-76f1-4930-a570-d8fbb6b06555",
      "metadata": {
        "id": "ebeb4241-76f1-4930-a570-d8fbb6b06555"
      },
      "source": [
        "#### Bases\n",
        "\n",
        "**Definición de Base de un Espacio Vectorial**\n",
        "\n",
        "Una base de un espacio vectorial $V$ es un conjunto de vectores linealmente independientes que generan $V$. Formalmente, si $B = \\{v_1, v_2, \\ldots, v_n\\}$ es una base de $V$, entonces:\n",
        "\n",
        "1. **Linealmente Independientes**: Los vectores en $B$ son linealmente independientes. Esto significa que si $c_1 v_1 + c_2 v_2 + \\cdots + c_n v_n = 0$ implica que $c_1 = c_2 = \\cdots = c_n = 0$.\n",
        "\n",
        "2. **Generan $V$**: Cualquier vector en $V$ puede ser expresado como una combinación lineal de los vectores en $B$. Esto es, para cualquier $v \\in V$, existen escalares $a_1, a_2, \\ldots, a_n$ tales que $v = a_1 v_1 + a_2 v_2 + \\cdots + a_n v_n$.\n",
        "\n",
        "**Teorema de la Base**\n",
        "\n",
        "Si $V$ es un espacio vectorial de dimensión finita, entonces cualquier conjunto de $n$ vectores linealmente independientes en $V$ es una base de $V$, donde $n$ es la dimensión de $V$.\n",
        "\n",
        "**Cálculo de Coordenadas**\n",
        "\n",
        "Dado un vector $v \\in V$ y una base $B = \\{v_1, v_2, \\ldots, v_n\\}$, las coordenadas de $v$ respecto a $B$ son los escalares $a_1, a_2, \\ldots, a_n$ tales que $v = a_1 v_1 + a_2 v_2 + \\cdots + a_n v_n$. Estos escalares se pueden obtener resolviendo el sistema de ecuaciones lineales que surge al igualar $v$ con la combinación lineal de los vectores de la base.\n"
      ]
    },
    {
      "cell_type": "markdown",
      "id": "152b5161-9a6d-4d79-a703-b94584fb7a82",
      "metadata": {
        "id": "152b5161-9a6d-4d79-a703-b94584fb7a82"
      },
      "source": [
        "#### Dimensión\n",
        "\n",
        "**Definición de Dimensión**\n",
        "\n",
        "La dimensión de un espacio vectorial $V$, denotada como $\\dim(V)$, es el número de vectores en cualquier base de $V$. Si $V$ no tiene una base finita, se dice que $V$ es de dimensión infinita.\n",
        "\n",
        "**Propiedades de la Dimensión**\n",
        "\n",
        "1. **Única**: Si $V$ tiene una base de $n$ elementos, entonces cualquier otra base de $V$ también tendrá $n$ elementos. Esto implica que la dimensión está bien definida.\n",
        "2. **Subespacios**: Si $W$ es un subespacio de $V$, entonces $\\dim(W) \\leq \\dim(V)$.\n",
        "3. **Suma de Dimensiones**: Si $U$ y $W$ son subespacios de $V$, entonces\n",
        "   $$\\dim(U + W) = \\dim(U) + \\dim(W) - \\dim(U \\cap W)$$\n"
      ]
    },
    {
      "cell_type": "markdown",
      "id": "01a98db0-f9e8-42be-9d83-b0a32a102047",
      "metadata": {
        "id": "01a98db0-f9e8-42be-9d83-b0a32a102047"
      },
      "source": [
        "# Ejemplos con Python"
      ]
    },
    {
      "cell_type": "markdown",
      "id": "cddb4224-7a06-48b1-8b8a-6aedd556e975",
      "metadata": {
        "id": "cddb4224-7a06-48b1-8b8a-6aedd556e975"
      },
      "source": [
        "#### Ejemplo 1: Cálculo de Base de un Espacio Vectorial\n"
      ]
    },
    {
      "cell_type": "code",
      "execution_count": null,
      "id": "bbd07231-c2d5-493d-890a-e10c3f639c45",
      "metadata": {
        "id": "bbd07231-c2d5-493d-890a-e10c3f639c45",
        "outputId": "ade850c2-12c4-41f8-ac10-19ec0f01fd23"
      },
      "outputs": [
        {
          "name": "stdout",
          "output_type": "stream",
          "text": [
            "La base del espacio vectorial es:\n",
            "Matrix([[1]])\n"
          ]
        }
      ],
      "source": [
        "import numpy as np\n",
        "from sympy import Matrix\n",
        "\n",
        "vectores = [Matrix([1, 2, 3]), Matrix([4, 5, 6]), Matrix([7, 8, 9])]\n",
        "\n",
        "A = Matrix(vectores).transpose()\n",
        "\n",
        "# Calculamos la base utilizando la eliminación de Gauss\n",
        "A_rref, pivots = A.rref()\n",
        "base = A_rref[:, :len(pivots)]\n",
        "print(\"La base del espacio vectorial es:\")\n",
        "print(base)\n"
      ]
    },
    {
      "cell_type": "markdown",
      "id": "55427480-4231-4ae2-aabb-e1ca157a9775",
      "metadata": {
        "id": "55427480-4231-4ae2-aabb-e1ca157a9775"
      },
      "source": [
        "#### Ejemplo 2: Cálculo de Coordenadas de un Vector\n"
      ]
    },
    {
      "cell_type": "code",
      "execution_count": null,
      "id": "189e8a01-a3c5-4bd5-afe6-46fba0fb3f8b",
      "metadata": {
        "id": "189e8a01-a3c5-4bd5-afe6-46fba0fb3f8b",
        "outputId": "568756eb-8f0d-417d-a4e0-a48a1f182691"
      },
      "outputs": [
        {
          "name": "stdout",
          "output_type": "stream",
          "text": [
            "Las coordenadas del vector respecto a la base son:\n",
            "Matrix([[6]])\n"
          ]
        }
      ],
      "source": [
        "import numpy as np\n",
        "from sympy import Matrix\n",
        "\n",
        "# Definimos una base y un vector\n",
        "base = [Matrix([1, 0, 0]), Matrix([0, 1, 0]), Matrix([0, 0, 1])]\n",
        "vector = Matrix([4, 5, 6])\n",
        "\n",
        "A = Matrix(base + [vector]).transpose()\n",
        "\n",
        "A_rref, _ = A.rref()\n",
        "coordenadas = A_rref[:, -1]\n",
        "print(\"Las coordenadas del vector respecto a la base son:\")\n",
        "print(coordenadas)\n"
      ]
    },
    {
      "cell_type": "markdown",
      "id": "e553693c-1bb0-4f96-ac81-4fd09590bd27",
      "metadata": {
        "id": "e553693c-1bb0-4f96-ac81-4fd09590bd27"
      },
      "source": [
        "#### Ejemplo 3: Determinación de la Dimensión de un Subespacio\n"
      ]
    },
    {
      "cell_type": "code",
      "execution_count": null,
      "id": "4dfe4099-629e-4b5e-ae49-750e9c30b1af",
      "metadata": {
        "id": "4dfe4099-629e-4b5e-ae49-750e9c30b1af",
        "outputId": "3fbd4b9a-b204-4bc8-aae3-f28b5e8b4f4c"
      },
      "outputs": [
        {
          "name": "stdout",
          "output_type": "stream",
          "text": [
            "La dimensión del subespacio es:\n",
            "1\n"
          ]
        }
      ],
      "source": [
        "import numpy as np\n",
        "from sympy import Matrix\n",
        "\n",
        "vectores = [Matrix([1, 2, 3]), Matrix([4, 5, 6]), Matrix([1, 1, 1])]\n",
        "\n",
        "A = Matrix(vectores).transpose()\n",
        "\n",
        "# Calculamos la dimensión del subespacio utilizando la eliminación de Gauss\n",
        "A_rref, pivots = A.rref()\n",
        "dimension = len(pivots)\n",
        "print(\"La dimensión del subespacio es:\")\n",
        "print(dimension)\n"
      ]
    },
    {
      "cell_type": "markdown",
      "id": "5e8e98b8-bdc1-44b1-97f4-442424123881",
      "metadata": {
        "id": "5e8e98b8-bdc1-44b1-97f4-442424123881"
      },
      "source": [
        "#### Ejemplo 4: Verificación de Dimensiones de Subespacios\n"
      ]
    },
    {
      "cell_type": "code",
      "execution_count": null,
      "id": "d3d7e3e5-8d2b-43b9-97e0-912a340a3fb3",
      "metadata": {
        "id": "d3d7e3e5-8d2b-43b9-97e0-912a340a3fb3",
        "outputId": "87ad5e8e-deb2-45d8-aeed-5469d9231e73"
      },
      "outputs": [
        {
          "name": "stdout",
          "output_type": "stream",
          "text": [
            "Dimensión de U: 1\n",
            "Dimensión de W: 1\n",
            "Dimensión de U + W: 1\n",
            "Dimensión de U ∩ W: 1\n"
          ]
        }
      ],
      "source": [
        "import numpy as np\n",
        "from sympy import Matrix\n",
        "\n",
        "# Definimos dos conjuntos de vectores que forman los subespacios U y W\n",
        "vectores_U = [Matrix([1, 0, 0]), Matrix([0, 1, 0])]\n",
        "vectores_W = [Matrix([0, 1, 0]), Matrix([0, 0, 1])]\n",
        "\n",
        "# Creamos matrices con estos vectores\n",
        "A_U = Matrix(vectores_U).transpose()\n",
        "A_W = Matrix(vectores_W).transpose()\n",
        "\n",
        "# Calculamos las dimensiones de U y W\n",
        "_, pivots_U = A_U.rref()\n",
        "_, pivots_W = A_W.rref()\n",
        "dimension_U = len(pivots_U)\n",
        "dimension_W = len(pivots_W)\n",
        "\n",
        "# Calculamos la dimensión de U + W\n",
        "vectores_UW = vectores_U + vectores_W\n",
        "A_UW = Matrix(vectores_UW).transpose()\n",
        "A_UW_rref, pivots_UW = A_UW.rref()\n",
        "dimension_UW = len(pivots_UW)\n",
        "\n",
        "# Calculamos la dimensión de U ∩ W\n",
        "interseccion = A_U.rref()[0].col_join(A_W.rref()[0])\n",
        "_, pivots_interseccion = interseccion.rref()\n",
        "dimension_interseccion = len(pivots_interseccion) - A_U.rows\n",
        "\n",
        "print(\"Dimensión de U:\", dimension_U)\n",
        "print(\"Dimensión de W:\", dimension_W)\n",
        "print(\"Dimensión de U + W:\", dimension_UW)\n",
        "print(\"Dimensión de U ∩ W:\", dimension_interseccion)\n"
      ]
    }
  ],
  "metadata": {
    "kernelspec": {
      "display_name": "Python 3 (ipykernel)",
      "language": "python",
      "name": "python3"
    },
    "language_info": {
      "codemirror_mode": {
        "name": "ipython",
        "version": 3
      },
      "file_extension": ".py",
      "mimetype": "text/x-python",
      "name": "python",
      "nbconvert_exporter": "python",
      "pygments_lexer": "ipython3",
      "version": "3.12.3"
    },
    "colab": {
      "provenance": [],
      "include_colab_link": true
    }
  },
  "nbformat": 4,
  "nbformat_minor": 5
}