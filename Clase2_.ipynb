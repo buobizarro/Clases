{
  "nbformat": 4,
  "nbformat_minor": 0,
  "metadata": {
    "colab": {
      "provenance": [],
      "include_colab_link": true
    },
    "kernelspec": {
      "name": "python3",
      "display_name": "Python 3"
    },
    "language_info": {
      "name": "python"
    }
  },
  "cells": [
    {
      "cell_type": "markdown",
      "metadata": {
        "id": "view-in-github",
        "colab_type": "text"
      },
      "source": [
        "<a href=\"https://colab.research.google.com/github/buobizarro/Clases/blob/main/Clase2_.ipynb\" target=\"_parent\"><img src=\"https://colab.research.google.com/assets/colab-badge.svg\" alt=\"Open In Colab\"/></a>"
      ]
    },
    {
      "cell_type": "code",
      "source": [],
      "metadata": {
        "id": "WICEDPy4A2jr"
      },
      "execution_count": null,
      "outputs": []
    },
    {
      "cell_type": "code",
      "source": [
        "def suma(a,b):\n",
        "    \"\"\"\n",
        "    Esta funcion calcula la suma de dos números.\n",
        "\n",
        "    Parametros:\n",
        "    a (int o float): Primer elemento.\n",
        "    b (int o float): Segundo elemento.\n",
        "\n",
        "    Esta función retorna:\n",
        "    int o float: Resultado de la suma de a y b.\n",
        "\n",
        "    \"\"\"\n",
        "    return a + b\n",
        "\n",
        " #Acceder al doctring\n",
        "print(suma.__doc__)"
      ],
      "metadata": {
        "colab": {
          "base_uri": "https://localhost:8080/"
        },
        "id": "SC-Aps_fkSJT",
        "outputId": "67da6323-a9b2-4b61-d1f2-e884d4e3d26b"
      },
      "execution_count": null,
      "outputs": [
        {
          "output_type": "stream",
          "name": "stdout",
          "text": [
            "\n",
            "    Esta funcion calcula la suma de dos números.\n",
            "\n",
            "    Parametros:\n",
            "    a (int o float): Primer elemento.\n",
            "    b (int o float): Segundo elemento.\n",
            "\n",
            "    Esta función retorna:\n",
            "    int o float: Resultado de la suma de a y b.\n",
            "\n",
            "    \n"
          ]
        }
      ]
    },
    {
      "cell_type": "code",
      "execution_count": null,
      "metadata": {
        "colab": {
          "base_uri": "https://localhost:8080/"
        },
        "id": "bd3NLnzliPjw",
        "outputId": "0e1d605b-9838-40c9-cfda-9d2e25453fb9"
      },
      "outputs": [
        {
          "output_type": "stream",
          "name": "stdout",
          "text": [
            " El control de flujo permite dirigir la ejecución del programa basandose en condiciones o repeticiones\n"
          ]
        }
      ],
      "source": [
        "#Controles de Flujo\n",
        "\n",
        "print(\"\"\" El control de flujo permite dirigir la ejecución del programa basandose en condiciones o repeticiones \"\"\")\n",
        "\n"
      ]
    },
    {
      "cell_type": "code",
      "source": [
        "#Ejemplo\n",
        "edad = int(input(\"Introduce tu edad\"))\n",
        "if edad < 18:\n",
        "   print(\"Menor de edad\")\n",
        "elif 18 <= edad < 65:\n",
        "   print(\"Adulto\")\n",
        "else:\n",
        "   print(\"Adulto mayor\")"
      ],
      "metadata": {
        "colab": {
          "base_uri": "https://localhost:8080/"
        },
        "id": "yoG5r_0Uju33",
        "outputId": "1af4a8d2-86ce-48f3-bbf8-09974c774ee5"
      },
      "execution_count": null,
      "outputs": [
        {
          "output_type": "stream",
          "name": "stdout",
          "text": [
            "Adulto mayor\n"
          ]
        }
      ]
    },
    {
      "cell_type": "markdown",
      "source": [
        "##Listas\n",
        "\n",
        "Una lista en Python es una estructura de datos que permite almacer multiples elementos ordenados. Es una coleccion mutable, lo que significa que sus elemento puedes ser modificados (agregar, eliminar o cambiar elementos), despues de su creacion.\n",
        "\n",
        "###Caracteristicas\n",
        "\n",
        "-Ordenadas: Los elementos itnen un indice que comienza en 0.\n",
        "-Mutables: Pueden modificar su contenido.\n",
        "-Tipos de datos mixtos: Una lista puede contener diferentes tipos de datos.\n",
        "-Representacion: Se delimitan por corchetes [] y los elementos están separados por comas.\n",
        "\n"
      ],
      "metadata": {
        "id": "0Dlr-MKcj_t-"
      }
    },
    {
      "cell_type": "code",
      "source": [
        "#Ejemplo de una lista\n",
        "\n",
        "mi_lista = [1, 2, 3.1, \"Intersemestral\", True]\n",
        "\n",
        "print(mi_lista[0])"
      ],
      "metadata": {
        "colab": {
          "base_uri": "https://localhost:8080/"
        },
        "id": "gL32qoouoNZc",
        "outputId": "3adcc2e3-3f3e-4623-c175-c44412bc49b9"
      },
      "execution_count": null,
      "outputs": [
        {
          "output_type": "stream",
          "name": "stdout",
          "text": [
            "1\n"
          ]
        }
      ]
    },
    {
      "cell_type": "code",
      "source": [
        "# Modificar un elemento de mi lista\n",
        "\n",
        "mi_lista[2] = \"Python\"\n",
        "\n",
        "print(mi_lista)"
      ],
      "metadata": {
        "colab": {
          "base_uri": "https://localhost:8080/"
        },
        "id": "tfpoMbLYpzgK",
        "outputId": "7cdc4d55-86a6-4592-c5f6-2a3ed847b52c"
      },
      "execution_count": null,
      "outputs": [
        {
          "output_type": "stream",
          "name": "stdout",
          "text": [
            "[1, 2, 'Python', 'Intersemestral', True]\n"
          ]
        }
      ]
    },
    {
      "cell_type": "code",
      "source": [
        "# Agregar un elemento\n",
        "\n",
        "mi_lista.append(2.2)\n",
        "\n",
        "print(mi_lista)"
      ],
      "metadata": {
        "colab": {
          "base_uri": "https://localhost:8080/"
        },
        "id": "ypmM7cgwqN8D",
        "outputId": "97c9a20d-37c0-488c-cdbd-b0dc1a964095"
      },
      "execution_count": null,
      "outputs": [
        {
          "output_type": "stream",
          "name": "stdout",
          "text": [
            "[1, 2, 'Python', 'Intersemestral', True, 2.2]\n"
          ]
        }
      ]
    },
    {
      "cell_type": "code",
      "source": [
        "print(mi_lista)"
      ],
      "metadata": {
        "colab": {
          "base_uri": "https://localhost:8080/"
        },
        "id": "5XC8fNKDq8SN",
        "outputId": "308f3270-ec51-4756-977b-9e9ae331f3f9"
      },
      "execution_count": null,
      "outputs": [
        {
          "output_type": "stream",
          "name": "stdout",
          "text": [
            "[2, 'Python', 'Intersemestral', 2.2]\n"
          ]
        }
      ]
    },
    {
      "cell_type": "code",
      "source": [
        "mi_lista.append(True)\n",
        "\n",
        "mi_lista.append(False)\n",
        "\n",
        "print(mi_lista)"
      ],
      "metadata": {
        "colab": {
          "base_uri": "https://localhost:8080/"
        },
        "id": "Er8GlLaYq_K-",
        "outputId": "affa19b5-573d-4a84-f58b-0e8a34749843"
      },
      "execution_count": null,
      "outputs": [
        {
          "output_type": "stream",
          "name": "stdout",
          "text": [
            "[2, 'Python', 'Intersemestral', 2.2, True, False]\n"
          ]
        }
      ]
    },
    {
      "cell_type": "code",
      "source": [
        "# Eliminar\n",
        "\n",
        "mi_lista.remove(True)\n",
        "\n",
        "print(mi_lista)"
      ],
      "metadata": {
        "colab": {
          "base_uri": "https://localhost:8080/"
        },
        "id": "mquXmyQcrGvB",
        "outputId": "5e2eced6-0988-4b76-d932-29a0049a425c"
      },
      "execution_count": null,
      "outputs": [
        {
          "output_type": "stream",
          "name": "stdout",
          "text": [
            "[2, 'Python', 'Intersemestral', 2.2, False]\n"
          ]
        }
      ]
    },
    {
      "cell_type": "code",
      "source": [
        "# Eliminar\n",
        "\n",
        "mi_lista.remove(False)\n",
        "\n",
        "print(mi_lista)"
      ],
      "metadata": {
        "colab": {
          "base_uri": "https://localhost:8080/"
        },
        "id": "LuhCLXNSrNTp",
        "outputId": "90d9abb9-a306-4d09-fc7b-15b21a365c49"
      },
      "execution_count": null,
      "outputs": [
        {
          "output_type": "stream",
          "name": "stdout",
          "text": [
            "[2, 'Python', 'Intersemestral', 2.2]\n"
          ]
        }
      ]
    },
    {
      "cell_type": "code",
      "source": [
        "# Longitud de la lista\n",
        "\n",
        "print(len(mi_lista))"
      ],
      "metadata": {
        "colab": {
          "base_uri": "https://localhost:8080/"
        },
        "id": "7H31QtcArYzI",
        "outputId": "ca90a232-23fb-411b-927a-7d6c7912d761"
      },
      "execution_count": null,
      "outputs": [
        {
          "output_type": "stream",
          "name": "stdout",
          "text": [
            "4\n"
          ]
        }
      ]
    },
    {
      "cell_type": "markdown",
      "source": [
        "## Tuplas\n",
        "\n",
        "Una tupla en python es una estructura de datos que permite almacer multiples elementos ordenados, pero es inmutable, lo que significa que no se puede modificar después  de su creacion.\n",
        "\n",
        "-Ordenenada\n",
        "-inmutable\n",
        "-Tipos de datos mixtos\n",
        "-Representacion: Se define entre parentesis () y sus elementos estan separados por comas.\n",
        "\n",
        "\n"
      ],
      "metadata": {
        "id": "1jf2nUVgrlNK"
      }
    },
    {
      "cell_type": "code",
      "source": [
        "# Tupla\n",
        "\n",
        "mi_tupla = (1, 2, 3.1, \"Intersemestral\", True)\n",
        "\n",
        "print(mi_tupla)"
      ],
      "metadata": {
        "colab": {
          "base_uri": "https://localhost:8080/"
        },
        "id": "tSwbh2Dir_qe",
        "outputId": "8625966b-3858-4100-b704-1fe5acbe8460"
      },
      "execution_count": null,
      "outputs": [
        {
          "output_type": "stream",
          "name": "stdout",
          "text": [
            "(1, 2, 3.1, 'Intersemestral', True)\n"
          ]
        }
      ]
    },
    {
      "cell_type": "code",
      "source": [
        "# acceder a un elemento\n",
        "\n",
        "print(mi_tupla[0])"
      ],
      "metadata": {
        "colab": {
          "base_uri": "https://localhost:8080/"
        },
        "id": "aKeXvkYSsIMG",
        "outputId": "1a72a2b6-3d5a-493d-9e6e-dd7825ac63e1"
      },
      "execution_count": null,
      "outputs": [
        {
          "output_type": "stream",
          "name": "stdout",
          "text": [
            "1\n"
          ]
        }
      ]
    },
    {
      "cell_type": "code",
      "source": [
        "# Logitud de la tupla\n",
        "\n",
        "print(len(mi_tupla))"
      ],
      "metadata": {
        "colab": {
          "base_uri": "https://localhost:8080/"
        },
        "id": "XAoD7DfvsRkd",
        "outputId": "8a86b4ca-dcd5-4560-f4a4-ab00035901e1"
      },
      "execution_count": null,
      "outputs": [
        {
          "output_type": "stream",
          "name": "stdout",
          "text": [
            "5\n"
          ]
        }
      ]
    },
    {
      "cell_type": "markdown",
      "source": [
        "## Diccionarios\n",
        "\n",
        "Los Diccionarios son colecciones de pares clave-valor. Se utilian para almacenar datos de manera organizada, donde cada clave es unica y esta asociada a un valor.\n",
        "\n",
        "Los diccionarios son estructuras de datos. A diferencia de las lista y tuplas, los diccionaros no estan indexados por posiciones numericas, sino por claves que puedes ser de cualquier tipo inmutable\n",
        "\n",
        "Uso.\n",
        "\n",
        "-Representar datos estructurados, como registros o configuraciones.\n",
        "-Asociar identificadores unicos a valores."
      ],
      "metadata": {
        "id": "jkplk5Czsitr"
      }
    },
    {
      "cell_type": "code",
      "source": [
        "# Crear un diccionario.\n",
        "\n",
        "mi_diccionario = {\"nombre\": \"Juan\", \"edad\": 25, \"ciudad\": \"Madrid\"}\n",
        "\n",
        "print(mi_diccionario)"
      ],
      "metadata": {
        "colab": {
          "base_uri": "https://localhost:8080/"
        },
        "id": "terEotXCtXTE",
        "outputId": "3111e456-4b81-42dc-86cc-3d0116bae021"
      },
      "execution_count": null,
      "outputs": [
        {
          "output_type": "stream",
          "name": "stdout",
          "text": [
            "{'nombre': 'Juan', 'edad': 25, 'ciudad': 'Madrid'}\n"
          ]
        }
      ]
    },
    {
      "cell_type": "code",
      "source": [
        "print(mi_diccionario[\"edad\"])"
      ],
      "metadata": {
        "colab": {
          "base_uri": "https://localhost:8080/"
        },
        "id": "4JWfytT4tso7",
        "outputId": "7c3ea2c2-3459-4354-88b0-cb7584b6b533"
      },
      "execution_count": null,
      "outputs": [
        {
          "output_type": "stream",
          "name": "stdout",
          "text": [
            "25\n"
          ]
        }
      ]
    },
    {
      "cell_type": "code",
      "source": [
        "print(mi_diccionario[\"ciudad\"])"
      ],
      "metadata": {
        "colab": {
          "base_uri": "https://localhost:8080/"
        },
        "id": "Aho5jStot0CP",
        "outputId": "9bb8e5c9-72a7-4810-bd7e-af6808882e14"
      },
      "execution_count": null,
      "outputs": [
        {
          "output_type": "stream",
          "name": "stdout",
          "text": [
            "Madrid\n"
          ]
        }
      ]
    },
    {
      "cell_type": "code",
      "source": [
        "print(mi_diccionario[\"nombre\"])"
      ],
      "metadata": {
        "colab": {
          "base_uri": "https://localhost:8080/"
        },
        "id": "FENQRWT2t3Kn",
        "outputId": "fd03e435-d544-4889-fd02-21041bc12cbf"
      },
      "execution_count": null,
      "outputs": [
        {
          "output_type": "stream",
          "name": "stdout",
          "text": [
            "Juan\n"
          ]
        }
      ]
    },
    {
      "cell_type": "code",
      "source": [
        "# Metodos comunes.\n",
        "\n",
        "print(mi_diccionario.keys())"
      ],
      "metadata": {
        "colab": {
          "base_uri": "https://localhost:8080/"
        },
        "id": "v7_nN0-tt8F9",
        "outputId": "3f496594-1fbf-4402-b2a2-6b76108bcf04"
      },
      "execution_count": null,
      "outputs": [
        {
          "output_type": "stream",
          "name": "stdout",
          "text": [
            "dict_keys(['nombre', 'edad', 'ciudad'])\n"
          ]
        }
      ]
    },
    {
      "cell_type": "code",
      "source": [
        "print(mi_diccionario.values())"
      ],
      "metadata": {
        "colab": {
          "base_uri": "https://localhost:8080/"
        },
        "id": "tai5lpBGuInD",
        "outputId": "60df83c4-3573-4cc0-a629-311de50607fb"
      },
      "execution_count": null,
      "outputs": [
        {
          "output_type": "stream",
          "name": "stdout",
          "text": [
            "dict_values(['Juan', 25, 'Madrid'])\n"
          ]
        }
      ]
    },
    {
      "cell_type": "code",
      "source": [
        "mi_diccionario[\"edad\"] = 25\n",
        "\n",
        "print(mi_diccionario)"
      ],
      "metadata": {
        "colab": {
          "base_uri": "https://localhost:8080/"
        },
        "id": "i3e-G5tfuNzH",
        "outputId": "fbe39fb9-3aeb-4450-b55e-da1bb5b7190f"
      },
      "execution_count": null,
      "outputs": [
        {
          "output_type": "stream",
          "name": "stdout",
          "text": [
            "{'nombre': 'Juan', 'edad': 25, 'ciudad': 'Madrid'}\n"
          ]
        }
      ]
    },
    {
      "cell_type": "code",
      "source": [
        "mi_diccionario[\"ciudad\"] = \"CDMX\"\n",
        "\n",
        "print(mi_diccionario)"
      ],
      "metadata": {
        "colab": {
          "base_uri": "https://localhost:8080/"
        },
        "id": "LlHzxZTauUKW",
        "outputId": "9f188217-314a-42fe-92dd-94f62d22b885"
      },
      "execution_count": null,
      "outputs": [
        {
          "output_type": "stream",
          "name": "stdout",
          "text": [
            "{'nombre': 'Juan', 'edad': 25, 'ciudad': 'CDMX'}\n"
          ]
        }
      ]
    },
    {
      "cell_type": "code",
      "source": [
        "mi_diccionario[\"nombre\"] = \"Jonathan\"\n",
        "\n",
        "print(mi_diccionario)"
      ],
      "metadata": {
        "colab": {
          "base_uri": "https://localhost:8080/"
        },
        "id": "eNSavwvJubLu",
        "outputId": "1172a63a-383c-4bb5-89b0-2143d62663aa"
      },
      "execution_count": null,
      "outputs": [
        {
          "output_type": "stream",
          "name": "stdout",
          "text": [
            "{'nombre': 'Jonathan', 'edad': 25, 'ciudad': 'CDMX'}\n"
          ]
        }
      ]
    },
    {
      "cell_type": "markdown",
      "source": [
        "## Modulos y paquetes\n",
        "\n",
        "Un módulo es un archivo de python que contiene definiciones y declaraciones que pueden ser reutilizas en otros programas. Un paquete es una coleccion de modulos organizados en directorios.\n",
        "\n",
        "Ventajas:\n",
        "\n",
        "-Fomenta la reutilizacion de codigo.\n",
        "-Facilita la organizacion de proyectos grandes.\n",
        "-Permite el uso de bibliotecas externas.\n",
        "\n",
        "Tipos de modulos:\n",
        "\n",
        "Modulos estandar: proporcionados por python, como math, os, random.\n",
        "Modulos personalizados: creadors por el usuario para funciones especificas.\n",
        "Bibliotecas externas: instaladas con la herramienta como pip.\n",
        "\n",
        "\n"
      ],
      "metadata": {
        "id": "WKlFtWWqwVjh"
      }
    },
    {
      "cell_type": "code",
      "source": [
        "import math\n",
        "\n",
        "print(math.sqrt(16))"
      ],
      "metadata": {
        "colab": {
          "base_uri": "https://localhost:8080/"
        },
        "id": "rYfiL2-rxKll",
        "outputId": "85aa536f-d7ce-47e9-b858-fc3bc692a091"
      },
      "execution_count": null,
      "outputs": [
        {
          "output_type": "stream",
          "name": "stdout",
          "text": [
            "4.0\n"
          ]
        }
      ]
    },
    {
      "cell_type": "code",
      "source": [
        "# mis_utilidades.py\n",
        "\n",
        "def sumar(a, b):\n",
        "   return a + b\n",
        "\n",
        "\"\"\"\n",
        "from mis utilidades import sumar\n",
        "\n",
        "print(sumar(5, 3))\n",
        "\"\"\"\n"
      ],
      "metadata": {
        "colab": {
          "base_uri": "https://localhost:8080/",
          "height": 35
        },
        "id": "qP5npF0gxUGd",
        "outputId": "62dae15f-599e-49e3-c5c3-93700152416b"
      },
      "execution_count": null,
      "outputs": [
        {
          "output_type": "execute_result",
          "data": {
            "text/plain": [
              "' \\nfrom mis utilidades import sumar \\n\\nprint(sumar(5, 3))\\n'"
            ],
            "application/vnd.google.colaboratory.intrinsic+json": {
              "type": "string"
            }
          },
          "metadata": {},
          "execution_count": 37
        }
      ]
    },
    {
      "cell_type": "markdown",
      "source": [
        "## POO Programacion Orientada a Objetos\n",
        "\n",
        "\n",
        "La POO es un paradigma que organiza el codigo en torno a objetos y clases. Permite modelar entidades del mundo real y sus interacciones.\n",
        "\n",
        "Conceptos fundamentales:\n",
        "\n",
        "-Clases: Plantillas para crear objetos, que definen atributos y comportamientos..\n",
        "-Objetos: Instancias de una clase que tienen propiedades y metodos.\n",
        "-Encapsulamiento: Oculta lo detalles internos de un objeto y exponen solo lo necesarios.\n",
        "-Herencia: Permite crear nuevas clases basadas en clases existentes.\n",
        "-Polimorfismo: habilidad de los objetos para responder de manera diferente al mismo metodo.\n",
        "\n",
        "\n",
        "Beneficios.\n",
        "\n",
        "-Mejora la modularidad y reutilizacion de codigo.\n",
        "-Facilita el mantimiento y escalabilidad de proyectos.\n",
        "\n",
        "\n",
        "\n"
      ],
      "metadata": {
        "id": "Cz3bQOKSyV-_"
      }
    },
    {
      "cell_type": "code",
      "source": [
        "#Clase y Objeto\n",
        "class Persona:\n",
        "  def __init__(self, nombre, edad):\n",
        "    self.nombre = nombre\n",
        "    self.edad = edad\n",
        "\n",
        "  def saludar(self):\n",
        "      print(f\"Hola, me llamo {self.nombre} y tengo {self.edad} años\")\n",
        "\n",
        "persona1 = Persona(\"Alan\", 25)\n",
        "persona1.saludar()"
      ],
      "metadata": {
        "colab": {
          "base_uri": "https://localhost:8080/"
        },
        "id": "7E8lx5o02bOQ",
        "outputId": "137cf40e-7ab1-41e8-f447-eebe646dee92"
      },
      "execution_count": null,
      "outputs": [
        {
          "output_type": "stream",
          "name": "stdout",
          "text": [
            "Hola, me llamo Alan y tengo 25 años\n"
          ]
        }
      ]
    },
    {
      "cell_type": "code",
      "source": [
        "#Herencia\n",
        "\n",
        "class Estudiante(Persona):\n",
        "  def __init__(self, nombre, edad, nivel_de_poder):\n",
        "    super().__init__(nombre, edad)\n",
        "    self.nivel_de_poder = nivel_de_poder\n",
        "\n",
        "  def nivel(self):\n",
        "    print(f\"{self.nombre} tiene un nivel de poder {self.nivel_de_poder}.\")\n",
        "\n",
        "estudiante1 = Estudiante(\"Alan\", 25, \"nivel 2\")\n",
        "estudiante1.saludar()\n",
        "estudiante1.nivel()\n"
      ],
      "metadata": {
        "colab": {
          "base_uri": "https://localhost:8080/"
        },
        "id": "g-ZNcz6m3txa",
        "outputId": "2670a8ff-d521-4ba0-e603-d2395f8dbc30"
      },
      "execution_count": null,
      "outputs": [
        {
          "output_type": "stream",
          "name": "stdout",
          "text": [
            "Hola, me llamo Alan y tengo 25 años\n",
            "Alan tiene un nivel de poder nivel 2.\n"
          ]
        }
      ]
    }
  ]
}