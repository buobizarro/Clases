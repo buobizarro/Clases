{
  "cells": [
    {
      "cell_type": "markdown",
      "metadata": {
        "id": "view-in-github",
        "colab_type": "text"
      },
      "source": [
        "<a href=\"https://colab.research.google.com/github/buobizarro/Clases/blob/main/Transformaciones_Lineales.ipynb\" target=\"_parent\"><img src=\"https://colab.research.google.com/assets/colab-badge.svg\" alt=\"Open In Colab\"/></a>"
      ]
    },
    {
      "cell_type": "markdown",
      "id": "787e93ef-e6b9-46a0-a02c-eca6119ff066",
      "metadata": {
        "id": "787e93ef-e6b9-46a0-a02c-eca6119ff066"
      },
      "source": [
        "# Transformaciones Lineales"
      ]
    },
    {
      "cell_type": "markdown",
      "id": "4b8916f4-63a3-453e-aa94-8607139a7718",
      "metadata": {
        "id": "4b8916f4-63a3-453e-aa94-8607139a7718"
      },
      "source": [
        "**Mapeos Lineales**\n",
        "\n",
        "Una transformación lineal (o mapeo lineal) es una función $T: V \\rightarrow W$ entre dos espacios vectoriales $V$ y $W$ que satisface las siguientes propiedades para todos los vectores $u, v \\in V$ y cualquier escalar $c$:\n",
        "\n",
        "1. **Aditividad**: $T(u + v) = T(u) + T(v)$\n",
        "2. **Homogeneidad**: $T(cu) = cT(u)$\n",
        "\n",
        "Estas dos propiedades garantizan que la imagen de una combinación lineal de vectores bajo una transformación lineal es la combinación lineal de las imágenes de esos vectores.\n",
        "\n",
        "**Imagen y Núcleo**\n",
        "\n",
        "- **Imagen**: La imagen (o rango) de una transformación lineal $T: V \\rightarrow W$ es el conjunto de todos los vectores en $W$ que son imágenes de algún vector en $V$. Formalmente, se define como:\n",
        "  $$\n",
        "  \\text{Im}(T) = \\{ T(v) \\mid v \\in V \\}\n",
        "  $$\n",
        "\n",
        "- **Núcleo**: El núcleo (o kernel) de una transformación lineal $T: V \\rightarrow W$ es el conjunto de todos los vectores en $V$ que se mapean al vector cero en $W$. Formalmente, se define como:\n",
        "  $$\n",
        "  \\text{Ker}(T) = \\{ v \\in V \\mid T(v) = 0 \\}\n",
        "  $$\n",
        "\n",
        "El núcleo de una transformación lineal es siempre un subespacio del dominio $V$, y la imagen es un subespacio del codominio $W$.\n"
      ]
    },
    {
      "cell_type": "markdown",
      "id": "702d430e-ccc7-48b8-b688-a78a98f2f94e",
      "metadata": {
        "id": "702d430e-ccc7-48b8-b688-a78a98f2f94e"
      },
      "source": [
        "**Matrices de Transformación**\n",
        "\n",
        "Dada una transformación lineal $T: V \\rightarrow W$ y bases $B = \\{v_1, v_2, \\ldots, v_n\\}$ de $V$ y $C = \\{w_1, w_2, \\ldots, w_m\\}$ de $W$, la matriz de transformación $[T]_{B \\to C}$ es la matriz que representa $T$ en las bases $B$ y $C$. Cada columna de $[T]_{B \\to C}$ se obtiene aplicando $T$ a un vector base de $B$ y expresando el resultado como una combinación lineal de los vectores base de $C$.\n",
        "\n",
        "**Cambio de Base**\n",
        "\n",
        "Si se tienen dos bases diferentes $B$ y $B'$ de un espacio vectorial $V$, y se quiere expresar la transformación lineal $T$ en estas dos bases, es necesario usar la matriz de cambio de base. Si $P$ es la matriz de cambio de base de $B$ a $B'$, entonces la relación entre las matrices de transformación en las dos bases está dada por:\n",
        "$$\n",
        "[T]_{B'} = P^{-1} [T]_B P\n",
        "$$\n",
        "donde $[T]_B$ es la matriz de $T$ en la base $B$ y $[T]_{B'}$ es la matriz de $T$ en la base $B'$.\n"
      ]
    },
    {
      "cell_type": "markdown",
      "id": "bb5ebba8-a2b9-4a1e-abad-da590b09344f",
      "metadata": {
        "id": "bb5ebba8-a2b9-4a1e-abad-da590b09344f"
      },
      "source": [
        "# Ejemplos con Python"
      ]
    },
    {
      "cell_type": "markdown",
      "id": "4c5914ba-a83e-4830-8ac8-215667386990",
      "metadata": {
        "id": "4c5914ba-a83e-4830-8ac8-215667386990"
      },
      "source": [
        "#### Ejemplo 1: Mapeo Lineal\n"
      ]
    },
    {
      "cell_type": "code",
      "execution_count": null,
      "id": "52285579-1952-489a-9b43-553824a130e4",
      "metadata": {
        "id": "52285579-1952-489a-9b43-553824a130e4",
        "outputId": "00068be0-2ab1-4b78-af28-9cdb8a12e63c"
      },
      "outputs": [
        {
          "name": "stdout",
          "output_type": "stream",
          "text": [
            "T(v) = [2 6]\n"
          ]
        }
      ],
      "source": [
        "import numpy as np\n",
        "\n",
        "# Definimos una transformación lineal T(x) = Ax\n",
        "A = np.array([[2, 0], [0, 3]])\n",
        "def T(v):\n",
        "    return A @ v\n",
        "\n",
        "# Definimos un vector en el espacio de entrada\n",
        "v = np.array([1, 2])\n",
        "\n",
        "# Calculamos la imagen de v bajo T\n",
        "Tv = T(v)\n",
        "print(\"T(v) =\", Tv)\n"
      ]
    },
    {
      "cell_type": "markdown",
      "id": "61d70caa-645b-44e3-85eb-ba7938993e2a",
      "metadata": {
        "id": "61d70caa-645b-44e3-85eb-ba7938993e2a"
      },
      "source": [
        "#### Ejemplo 2: Núcleo de una Transformación Lineal\n"
      ]
    },
    {
      "cell_type": "code",
      "execution_count": null,
      "id": "0387e51b-9bfc-4283-8481-d0d89c2c7056",
      "metadata": {
        "id": "0387e51b-9bfc-4283-8481-d0d89c2c7056",
        "outputId": "e42eebe4-d71b-4aa5-e7c9-5e583894a77e"
      },
      "outputs": [
        {
          "name": "stdout",
          "output_type": "stream",
          "text": [
            "El núcleo de T es: [Matrix([\n",
            "[0],\n",
            "[1]])]\n"
          ]
        }
      ],
      "source": [
        "import numpy as np\n",
        "from sympy import Matrix\n",
        "\n",
        "# Definimos una transformación lineal T(x) = Ax\n",
        "A = Matrix([[2, 0], [0, 0]])\n",
        "def T(v):\n",
        "    return A @ v\n",
        "\n",
        "# Calculamos el núcleo de T\n",
        "kernel = A.nullspace()\n",
        "print(\"El núcleo de T es:\", kernel)\n"
      ]
    },
    {
      "cell_type": "markdown",
      "id": "09530493-9ffe-40ef-a106-009734e0639e",
      "metadata": {
        "id": "09530493-9ffe-40ef-a106-009734e0639e"
      },
      "source": [
        "#### Ejemplo 3: Matriz de Transformación\n"
      ]
    },
    {
      "cell_type": "code",
      "execution_count": null,
      "id": "9cc5bf6b-0fcb-4ce3-9247-e88a844f23ad",
      "metadata": {
        "id": "9cc5bf6b-0fcb-4ce3-9247-e88a844f23ad",
        "outputId": "605976d0-3b0c-4898-d022-f662e052b0e9"
      },
      "outputs": [
        {
          "name": "stdout",
          "output_type": "stream",
          "text": [
            "La matriz de transformación es:\n",
            "[[2. 0.]\n",
            " [0. 3.]]\n"
          ]
        }
      ],
      "source": [
        "import numpy as np\n",
        "\n",
        "# Definimos una base B en R^2 y su imagen bajo T\n",
        "B = np.array([[1, 0], [0, 1]])\n",
        "T_B = np.array([[2, 0], [0, 3]])\n",
        "\n",
        "# Calculamos la matriz de transformación en la base B\n",
        "A = np.linalg.inv(B) @ T_B @ B\n",
        "print(\"La matriz de transformación es:\")\n",
        "print(A)\n"
      ]
    },
    {
      "cell_type": "markdown",
      "id": "f8042dd8-5c2b-488b-bdbb-af3eadc13233",
      "metadata": {
        "id": "f8042dd8-5c2b-488b-bdbb-af3eadc13233"
      },
      "source": [
        "#### Ejemplo 4: Cambio de Base\n"
      ]
    },
    {
      "cell_type": "code",
      "execution_count": null,
      "id": "e1c89ee7-2311-4b2d-bf6c-e3f2e824ff04",
      "metadata": {
        "id": "e1c89ee7-2311-4b2d-bf6c-e3f2e824ff04",
        "outputId": "c79764e0-db88-43de-982a-b25d6b0c56c5"
      },
      "outputs": [
        {
          "name": "stdout",
          "output_type": "stream",
          "text": [
            "La matriz de T en la base B' es:\n",
            "[[ 2.5 -0.5]\n",
            " [-0.5  2.5]]\n"
          ]
        }
      ],
      "source": [
        "import numpy as np\n",
        "\n",
        "# Definimos una base B y otra base B'\n",
        "B = np.array([[1, 1], [1, -1]])\n",
        "B_prime = np.array([[1, 0], [0, 1]])\n",
        "\n",
        "# Definimos una transformación T en la base B\n",
        "T_B = np.array([[2, 0], [0, 3]])\n",
        "\n",
        "# Calculamos la matriz de cambio de base de B a B'\n",
        "P = np.linalg.inv(B_prime) @ B\n",
        "\n",
        "# Calculamos la matriz de T en la base B'\n",
        "T_B_prime = np.linalg.inv(P) @ T_B @ P\n",
        "print(\"La matriz de T en la base B' es:\")\n",
        "print(T_B_prime)\n"
      ]
    }
  ],
  "metadata": {
    "kernelspec": {
      "display_name": "Python 3 (ipykernel)",
      "language": "python",
      "name": "python3"
    },
    "language_info": {
      "codemirror_mode": {
        "name": "ipython",
        "version": 3
      },
      "file_extension": ".py",
      "mimetype": "text/x-python",
      "name": "python",
      "nbconvert_exporter": "python",
      "pygments_lexer": "ipython3",
      "version": "3.12.3"
    },
    "colab": {
      "provenance": [],
      "include_colab_link": true
    }
  },
  "nbformat": 4,
  "nbformat_minor": 5
}