{
  "cells": [
    {
      "cell_type": "markdown",
      "metadata": {
        "id": "view-in-github",
        "colab_type": "text"
      },
      "source": [
        "<a href=\"https://colab.research.google.com/github/buobizarro/Clases/blob/main/Sistemas_de_Ecuaciones_Lineales.ipynb\" target=\"_parent\"><img src=\"https://colab.research.google.com/assets/colab-badge.svg\" alt=\"Open In Colab\"/></a>"
      ]
    },
    {
      "cell_type": "markdown",
      "id": "5dfd73de-7d16-4218-86c4-c9bb533f401d",
      "metadata": {
        "id": "5dfd73de-7d16-4218-86c4-c9bb533f401d"
      },
      "source": [
        "# Sistemas de Ecuaciones Lineales"
      ]
    },
    {
      "cell_type": "markdown",
      "id": "a2dafe26-1ffd-4cdb-a1c5-79b0075334cd",
      "metadata": {
        "id": "a2dafe26-1ffd-4cdb-a1c5-79b0075334cd"
      },
      "source": [
        "# Métodos de Solución\n",
        "**Eliminación Gaussiana**\n",
        "\n",
        "La eliminación gaussiana es un método sistemático para resolver sistemas de ecuaciones lineales. Este método transforma la matriz aumentada del sistema en una matriz escalonada mediante una serie de operaciones elementales de fila, que incluyen:\n",
        "\n",
        "1. **Intercambio de filas**: Cambiar dos filas entre sí.\n",
        "2. **Multiplicación de una fila por un escalar no nulo**: Multiplicar todos los elementos de una fila por un mismo escalar distinto de cero.\n",
        "3. **Suma de un múltiplo de una fila a otra fila**: Reemplazar una fila por la suma de ella misma y un múltiplo de otra fila.\n",
        "\n",
        "El objetivo es transformar la matriz aumentada en una forma triangular superior, desde la cual se puede realizar una sustitución hacia atrás para encontrar la solución del sistema.\n",
        "\n",
        "La matriz aumentada se representa como:\n",
        "\n",
        "$$\n",
        "[A | b]\n",
        "$$\n",
        "\n",
        "y se transforma sucesivamente hasta alcanzar una forma escalonada:\n",
        "\n",
        "$$\n",
        "\\begin{pmatrix}\n",
        "1 & * & * & \\cdots & * & | & * \\\\\n",
        "0 & 1 & * & \\cdots & * & | & * \\\\\n",
        "0 & 0 & 1 & \\cdots & * & | & * \\\\\n",
        "\\vdots & \\vdots & \\vdots & \\ddots & \\vdots & | & \\vdots \\\\\n",
        "0 & 0 & 0 & \\cdots & 1 & | & * \\\\\n",
        "\\end{pmatrix}\n",
        "$$\n",
        "\n",
        "**Método de Gauss-Jordan**\n",
        "\n",
        "El método de Gauss-Jordan es una extensión de la eliminación gaussiana. La diferencia principal es que el método de Gauss-Jordan transforma la matriz aumentada no solo en una forma escalonada, sino en una forma escalonada reducida, donde no solo se obtiene una matriz triangular superior, sino también ceros en todas las posiciones por encima y por debajo de los pivotes.\n",
        "\n",
        "El objetivo es transformar la matriz aumentada en la forma:\n",
        "\n",
        "$$\n",
        "\\begin{pmatrix}\n",
        "1 & 0 & 0 & \\cdots & 0 & | & * \\\\\n",
        "0 & 1 & 0 & \\cdots & 0 & | & * \\\\\n",
        "0 & 0 & 1 & \\cdots & 0 & | & * \\\\\n",
        "\\vdots & \\vdots & \\vdots & \\ddots & \\vdots & | & \\vdots \\\\\n",
        "0 & 0 & 0 & \\cdots & 1 & | & * \\\\\n",
        "\\end{pmatrix}\n",
        "$$\n",
        "\n",
        "Esto se logra aplicando las mismas operaciones elementales de fila, pero con el objetivo adicional de eliminar los elementos por encima de los pivotes después de haberlos escalonado en forma triangular superior.\n"
      ]
    },
    {
      "cell_type": "markdown",
      "id": "b3741824-7495-4a16-8a2c-8baaa82bc7e3",
      "metadata": {
        "id": "b3741824-7495-4a16-8a2c-8baaa82bc7e3"
      },
      "source": [
        "# Existencia y Unicidad\n",
        "**Teorema de Rouché-Frobenius**\n",
        "\n",
        "El Teorema de Rouché-Frobenius proporciona una condición para la existencia de soluciones de un sistema de ecuaciones lineales. Afirma que un sistema de ecuaciones lineales $AX = B$ tiene solución si y solo si el rango de la matriz de coeficientes $A$ es igual al rango de la matriz aumentada $[A | B]$. Esto se puede expresar como:\n",
        "\n",
        "$$\n",
        "\\text{rango}(A) = \\text{rango}([A | B])\n",
        "$$\n",
        "\n",
        "Además, si el sistema tiene solución, el número de soluciones es:\n",
        "\n",
        "1. **Única** si el rango es igual al número de incógnitas.\n",
        "2. **Infinitas** si el rango es menor que el número de incógnitas.\n",
        "\n",
        "**Tipos de Soluciones**\n",
        "\n",
        "Los sistemas de ecuaciones lineales pueden tener diferentes tipos de soluciones:\n",
        "\n",
        "1. **Sistema Consistente**:\n",
        "    - **Solución Única**: Cuando el sistema tiene exactamente una solución. Esto ocurre cuando el rango de la matriz de coeficientes es igual al número de incógnitas.\n",
        "    - **Infinitas Soluciones**: Cuando el sistema tiene más de una solución. Esto ocurre cuando el rango de la matriz de coeficientes es menor que el número de incógnitas.\n",
        "\n",
        "2. **Sistema Inconsistente**:\n",
        "    - **Sin Solución**: Cuando no hay ninguna solución. Esto ocurre cuando el rango de la matriz de coeficientes no es igual al rango de la matriz aumentada.\n",
        "\n",
        "Para determinar el tipo de solución, se deben realizar las operaciones de eliminación gaussiana o Gauss-Jordan para reducir el sistema a una forma en la que se puedan identificar fácilmente los rangos de las matrices.\n"
      ]
    },
    {
      "cell_type": "markdown",
      "id": "0b493013-90a3-4a64-b1ec-18c83628de57",
      "metadata": {
        "id": "0b493013-90a3-4a64-b1ec-18c83628de57"
      },
      "source": [
        "# Ejemplos con Python"
      ]
    },
    {
      "cell_type": "markdown",
      "id": "c51cbedb-88f6-4368-86bf-bffc39dd4ffa",
      "metadata": {
        "id": "c51cbedb-88f6-4368-86bf-bffc39dd4ffa"
      },
      "source": [
        "#### Ejemplo 1: Resolución de un Sistema usando Eliminación Gaussiana\n"
      ]
    },
    {
      "cell_type": "code",
      "execution_count": null,
      "id": "93c62a26-c46d-4fd0-9115-e1b1bda0161d",
      "metadata": {
        "id": "93c62a26-c46d-4fd0-9115-e1b1bda0161d",
        "outputId": "26f3699a-6374-4790-dd1b-ca04bbdace7a"
      },
      "outputs": [
        {
          "name": "stdout",
          "output_type": "stream",
          "text": [
            "La solución del sistema es x1 = 1.0, x2 = 1.0\n"
          ]
        }
      ],
      "source": [
        "import numpy as np\n",
        "\n",
        "# Definimos la matriz de coeficientes y el vector de términos independientes\n",
        "A = np.array([[2, 1], [1, -1]])\n",
        "B = np.array([3, 0])\n",
        "\n",
        "# Usamos la eliminación gaussiana para resolver el sistema\n",
        "A_augmented = np.column_stack((A, B))\n",
        "\n",
        "# Realizamos las operaciones elementales para triangular la matriz\n",
        "A_augmented[1] = A_augmented[1] - (A_augmented[1, 0] / A_augmented[0, 0]) * A_augmented[0]\n",
        "\n",
        "x2 = A_augmented[1, 2] / A_augmented[1, 1]\n",
        "x1 = (A_augmented[0, 2] - A_augmented[0, 1] * x2) / A_augmented[0, 0]\n",
        "\n",
        "print(f\"La solución del sistema es x1 = {x1}, x2 = {x2}\")\n"
      ]
    },
    {
      "cell_type": "markdown",
      "id": "b0664346-4536-44f4-8480-e33a323925bd",
      "metadata": {
        "id": "b0664346-4536-44f4-8480-e33a323925bd"
      },
      "source": [
        "#### Ejemplo 2: Resolución de un Sistema usando el Método de Gauss-Jordan\n"
      ]
    },
    {
      "cell_type": "code",
      "execution_count": null,
      "id": "e420a9f2-b43f-4b62-8351-bfabec61d2e3",
      "metadata": {
        "id": "e420a9f2-b43f-4b62-8351-bfabec61d2e3",
        "outputId": "1b336c42-bb4e-41b4-8a15-0e41e1af9212"
      },
      "outputs": [
        {
          "name": "stdout",
          "output_type": "stream",
          "text": [
            "La solución del sistema es: [4 1 1]\n"
          ]
        }
      ],
      "source": [
        "import numpy as np\n",
        "\n",
        "# Definimos la matriz de coeficientes y el vector de términos independientes\n",
        "A = np.array([[2, 1, -1], [-3, -1, 2], [-2, 1, 2]])\n",
        "B = np.array([8, -11, -3])\n",
        "\n",
        "# Usamos el método de Gauss-Jordan para resolver el sistema\n",
        "A_augmented = np.column_stack((A, B))\n",
        "\n",
        "# Aplicamos las operaciones elementales para obtener la matriz escalonada reducida\n",
        "n = len(B)\n",
        "for i in range(n):\n",
        "    A_augmented[i] = A_augmented[i] / A_augmented[i, i]\n",
        "    for j in range(n):\n",
        "        if i != j:\n",
        "            A_augmented[j] = A_augmented[j] - A_augmented[j, i] * A_augmented[i]\n",
        "\n",
        "# Extraemos la solución\n",
        "solution = A_augmented[:, -1]\n",
        "print(\"La solución del sistema es:\", solution)\n"
      ]
    },
    {
      "cell_type": "markdown",
      "id": "c6e8e491-d2eb-47d6-8c93-abd1b493abf4",
      "metadata": {
        "id": "c6e8e491-d2eb-47d6-8c93-abd1b493abf4"
      },
      "source": [
        "#### Ejemplo 3: Resolución de un Sistema usando el Teorema de Rouché-Frobenius\n"
      ]
    },
    {
      "cell_type": "code",
      "execution_count": null,
      "id": "91a8ff67-703c-477b-9244-cee31b53dc2b",
      "metadata": {
        "id": "91a8ff67-703c-477b-9244-cee31b53dc2b",
        "outputId": "4c9f9881-fd69-4c9a-aef8-b505508a301e"
      },
      "outputs": [
        {
          "name": "stdout",
          "output_type": "stream",
          "text": [
            "El sistema tiene una solución única.\n",
            "La solución del sistema es:\n",
            "Matrix([[5/4], [3/2], [5/4]])\n"
          ]
        }
      ],
      "source": [
        "import numpy as np\n",
        "from sympy import Matrix\n",
        "\n",
        "# Definimos la matriz de coeficientes y el vector de términos independientes\n",
        "A = Matrix([[2, -1, 0], [1, 2, -1], [3, -2, 1]])\n",
        "B = Matrix([1, 3, 2])\n",
        "\n",
        "# Calculamos los rangos de A y de la matriz aumentada\n",
        "rango_A = A.rank()\n",
        "rango_A_aumentada = A.row_join(B).rank()\n",
        "\n",
        "# Verificamos la existencia y tipo de solución\n",
        "if rango_A == rango_A_aumentada:\n",
        "    if rango_A == A.shape[1]:\n",
        "        print(\"El sistema tiene una solución única.\")\n",
        "    else:\n",
        "        print(\"El sistema tiene infinitas soluciones.\")\n",
        "else:\n",
        "    print(\"El sistema no tiene solución.\")\n",
        "\n",
        "# En caso de tener solución, se puede resolver el sistema\n",
        "if rango_A == rango_A_aumentada:\n",
        "    sol = A.solve(B)\n",
        "    print(\"La solución del sistema es:\")\n",
        "    print(sol)\n"
      ]
    }
  ],
  "metadata": {
    "kernelspec": {
      "display_name": "Python 3 (ipykernel)",
      "language": "python",
      "name": "python3"
    },
    "language_info": {
      "codemirror_mode": {
        "name": "ipython",
        "version": 3
      },
      "file_extension": ".py",
      "mimetype": "text/x-python",
      "name": "python",
      "nbconvert_exporter": "python",
      "pygments_lexer": "ipython3",
      "version": "3.12.3"
    },
    "colab": {
      "provenance": [],
      "include_colab_link": true
    }
  },
  "nbformat": 4,
  "nbformat_minor": 5
}